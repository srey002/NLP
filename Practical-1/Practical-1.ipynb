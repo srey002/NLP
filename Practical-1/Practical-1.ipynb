{
 "cells": [
  {
   "cell_type": "markdown",
   "id": "eight-salvation",
   "metadata": {},
   "source": [
    "Practical 1: Basic Text Processing operation "
   ]
  },
  {
   "cell_type": "code",
   "execution_count": 36,
   "id": "1b6d3c6b",
   "metadata": {},
   "outputs": [],
   "source": [
    "import nltk\n",
    "import pickdf = open(\"Gudgau.json\",'r')\n",
    "db=json.load(df)\n",
    "data=\"\"\n",
    "for i in range(0,len(db)):\n",
    "        #print(db[i]['Comment'])\n",
    "        data=data+db[i]['Comment']\n",
    "print(data)le\n",
    "import json\n",
    "import pandas as pd"
   ]
  },
  {
   "cell_type": "markdown",
   "id": "d4bce43d",
   "metadata": {},
   "source": [
    "tokenization"
   ]
  },
  {
   "cell_type": "code",
   "execution_count": 49,
   "id": "801d0502",
   "metadata": {},
   "outputs": [
    {
     "name": "stdout",
     "output_type": "stream",
     "text": [
      "This planet belongs to all of us . Appreciate the work. Kudos to iamgurgaon citizens group.After paying stamp duties, municipal tax and all othere taxs to govt. the citizens have to do everthing.🤦🤷‍♂️Love from Tamil nadu 💝  take more steps to save our world.Breathtaking 🥰Wow. Inspiring !Excellent work from the children of kailas & agenta 🤗Appreciable initiative. when citizens participate, govt's know not to ignore the citizens...Nice to see some concerned citizens and aspirants. Keep it up fellas.Great work 🙏Great work 👏 👍 👌Jai Hind to all d volunteersThank god at least somebody is doing something about it. Best of luck.your organisation deserve Grand saluteFeeling a bit secured nowKudos to citizens of GurgaonEnvironment are mothers to protect human beings we need them so it is now a high time to protect themPatna(Bihar) really need this.Good initiativeVery good initiativeGurugram is in up new it industry of India 😎♥️🙌🏻🙌🏻🤘🏻GreatGovt is busy in doing g@#$%u things and normal citizens are talking the things in their own hands, even after paying so much money to the govt.Interesting to see quint have uploaded only 2 videos the whole day... It's obvious thou... Jab khud ki phatt jati hai... Toh ache acho ki leti hai...😂😂😂😂😂😂....high respect for people who think like this.....This planet belongs to all of us . Appreciate the work. Kudos to iamgurgaon citizens group.After paying stamp duties, municipal tax and all othere taxs to govt. the citizens have to do everthing.🤦🤷‍♂️Love from Tamil nadu 💝  take more steps to save our world.Breathtaking 🥰Wow. Inspiring !Excellent work from the children of kailas & agenta 🤗Appreciable initiative. when citizens participate, govt's know not to ignore the citizens...Nice to see some concerned citizens and aspirants. Keep it up fellas.Great work 🙏Great work 👏 👍 👌Jai Hind to all d volunteersThank god at least somebody is doing something about it. Best of luck.your organisation deserve Grand saluteFeeling a bit secured nowKudos to citizens of GurgaonEnvironment are mothers to protect human beings we need them so it is now a high time to protect themPatna(Bihar) really need this.Good initiativeVery good initiativeGurugram is in up new it industry of India 😎♥️🙌🏻🙌🏻🤘🏻GreatGovt is busy in doing g@#$%u things and normal citizens are talking the things in their own hands, even after paying so much money to the govt.Interesting to see quint have uploaded only 2 videos the whole day... It's obvious thou... Jab khud ki phatt jati hai... Toh ache acho ki leti hai...😂😂😂😂😂😂....high respect for people who think like this.....Kudos to youHope they are not following miyawaki method..\n",
      "It would have been better for the planet, if someone order lock down once a weeknice.😲😲😲😲😲😲🤩🤩🤩🤩🤩🤩🤩yah sarkari kam tax payers ko karna hoga. tax bahro oor zhad b tax payers lagao. inka tax saara kisan subsidy me jata hai orr kisan parel jalaate hai, same environment ki watt lagate hiJai hind jai IndiaWe must understand that tall skyscrapers and good roads are not enough to qualify for a smart city. There must be a significant patch of verdant surroundings to keep the city free of pollution and fresh air. These buildings and streets aren't going to give us the oxygen. Development has been reckless where builders always neglect green cover. They just want to extract their pound of profits.Waah fir 1000s cr ₹ kahaan jaata hai Jo ki development ke naam par allot kiya jaata hai?👿👿Gurgaon contributes the most to Haryana exchequer. Then, the income taxes paid by people living here are a lot too.\n",
      "Where are our taxes going???FirstUrbanisation means jobs but no environment vice versa . Decide yourself\n",
      "\n",
      "Pls illogical liberals duur rahe logical conversation Karna Bina Gali kaiH\n"
     ]
    }
   ],
   "source": [
    "df = open(\"Gudgau.json\",'r')\n",
    "db=json.load(df)\n",
    "data=\"\"\n",
    "for i in range(0,len(db)):\n",
    "        #print(db[i]['Comment'])\n",
    "        data=data+db[i]['Comment']\n",
    "print(data)\n",
    "#type(text)"
   ]
  },
  {
   "cell_type": "code",
   "execution_count": 55,
   "id": "9ae21736",
   "metadata": {},
   "outputs": [
    {
     "name": "stdout",
     "output_type": "stream",
     "text": [
      "This planet belongs to all of us .\n",
      "\n",
      "Appreciate the work.\n",
      "\n",
      "Kudos to iamgurgaon citizens group.After paying stamp duties, municipal tax and all othere taxs to govt.\n",
      "\n",
      "the citizens have to do everthing.🤦🤷‍♂️Love from Tamil nadu 💝  take more steps to save our world.Breathtaking 🥰Wow.\n",
      "\n",
      "Inspiring !Excellent work from the children of kailas & agenta 🤗Appreciable initiative.\n",
      "\n",
      "when citizens participate, govt's know not to ignore the citizens...Nice to see some concerned citizens and aspirants.\n",
      "\n",
      "Keep it up fellas.Great work 🙏Great work 👏 👍 👌Jai Hind to all d volunteersThank god at least somebody is doing something about it.\n",
      "\n",
      "Best of luck.your organisation deserve Grand saluteFeeling a bit secured nowKudos to citizens of GurgaonEnvironment are mothers to protect human beings we need them so it is now a high time to protect themPatna(Bihar) really need this.Good initiativeVery good initiativeGurugram is in up new it industry of India 😎♥️🙌🏻🙌🏻🤘🏻GreatGovt is busy in doing g@#$%u things and normal citizens are talking the things in their own hands, even after paying so much money to the govt.Interesting to see quint have uploaded only 2 videos the whole day...\n",
      "\n",
      "It's obvious thou... Jab khud ki phatt jati hai... Toh ache acho ki leti hai...😂😂😂😂😂😂....high respect for people who think like this.....This planet belongs to all of us .\n",
      "\n",
      "Appreciate the work.\n",
      "\n",
      "Kudos to iamgurgaon citizens group.After paying stamp duties, municipal tax and all othere taxs to govt.\n",
      "\n",
      "the citizens have to do everthing.🤦🤷‍♂️Love from Tamil nadu 💝  take more steps to save our world.Breathtaking 🥰Wow.\n",
      "\n",
      "Inspiring !Excellent work from the children of kailas & agenta 🤗Appreciable initiative.\n",
      "\n",
      "when citizens participate, govt's know not to ignore the citizens...Nice to see some concerned citizens and aspirants.\n",
      "\n",
      "Keep it up fellas.Great work 🙏Great work 👏 👍 👌Jai Hind to all d volunteersThank god at least somebody is doing something about it.\n",
      "\n",
      "Best of luck.your organisation deserve Grand saluteFeeling a bit secured nowKudos to citizens of GurgaonEnvironment are mothers to protect human beings we need them so it is now a high time to protect themPatna(Bihar) really need this.Good initiativeVery good initiativeGurugram is in up new it industry of India 😎♥️🙌🏻🙌🏻🤘🏻GreatGovt is busy in doing g@#$%u things and normal citizens are talking the things in their own hands, even after paying so much money to the govt.Interesting to see quint have uploaded only 2 videos the whole day...\n",
      "\n",
      "It's obvious thou... Jab khud ki phatt jati hai... Toh ache acho ki leti hai...😂😂😂😂😂😂....high respect for people who think like this.....Kudos to youHope they are not following miyawaki method..\n",
      "\n",
      "It would have been better for the planet, if someone order lock down once a weeknice.😲😲😲😲😲😲🤩🤩🤩🤩🤩🤩🤩yah sarkari kam tax payers ko karna hoga.\n",
      "\n",
      "tax bahro oor zhad b tax payers lagao.\n",
      "\n",
      "inka tax saara kisan subsidy me jata hai orr kisan parel jalaate hai, same environment ki watt lagate hiJai hind jai IndiaWe must understand that tall skyscrapers and good roads are not enough to qualify for a smart city.\n",
      "\n",
      "There must be a significant patch of verdant surroundings to keep the city free of pollution and fresh air.\n",
      "\n",
      "These buildings and streets aren't going to give us the oxygen.\n",
      "\n",
      "Development has been reckless where builders always neglect green cover.\n",
      "\n",
      "They just want to extract their pound of profits.Waah fir 1000s cr ₹ kahaan jaata hai Jo ki development ke naam par allot kiya jaata hai?👿👿Gurgaon contributes the most to Haryana exchequer.\n",
      "\n",
      "Then, the income taxes paid by people living here are a lot too.\n",
      "\n",
      "Where are our taxes going??\n",
      "\n",
      "?FirstUrbanisation means jobs but no environment vice versa .\n",
      "\n",
      "Decide yourself\n",
      "\n",
      "Pls illogical liberals duur rahe logical conversation Karna Bina Gali kaiH\n",
      "\n"
     ]
    }
   ],
   "source": [
    "#text = \"Backgammon is one of the oldest known board games. Its history can be traced back nearly 5,000 years to archeological discoveries in the Middle East. It is a two player game where each player has fifteen checkers which move between twenty-four points according to the roll of two dice.\"\n",
    "sentences = nltk.sent_tokenize(data)\n",
    "for sentence in sentences:\n",
    "    print(sentence)\n",
    "    print()"
   ]
  },
  {
   "cell_type": "code",
   "execution_count": 3,
   "id": "5eb3cb3d",
   "metadata": {},
   "outputs": [
    {
     "name": "stdout",
     "output_type": "stream",
     "text": [
      "Requirement already satisfied: nltk in c:\\users\\om\\appdata\\local\\programs\\python\\python38\\lib\\site-packages (3.6.2)\n",
      "Collecting nltk\n",
      "  Downloading nltk-3.6.5-py3-none-any.whl (1.5 MB)\n",
      "Requirement already satisfied: joblib in c:\\users\\om\\appdata\\local\\programs\\python\\python38\\lib\\site-packages (from nltk) (1.0.1)\n",
      "Collecting regex>=2021.8.3\n",
      "  Downloading regex-2021.11.10-cp38-cp38-win_amd64.whl (273 kB)\n",
      "Requirement already satisfied: tqdm in c:\\users\\om\\appdata\\local\\programs\\python\\python38\\lib\\site-packages (from nltk) (4.61.1)\n",
      "Requirement already satisfied: click in c:\\users\\om\\appdata\\local\\programs\\python\\python38\\lib\\site-packages (from nltk) (8.0.1)\n",
      "Requirement already satisfied: colorama in c:\\users\\om\\appdata\\local\\programs\\python\\python38\\lib\\site-packages (from click->nltk) (0.4.4)\n",
      "Installing collected packages: regex, nltk\n",
      "  Attempting uninstall: regex\n",
      "    Found existing installation: regex 2021.4.4\n",
      "    Uninstalling regex-2021.4.4:\n",
      "      Successfully uninstalled regex-2021.4.4\n",
      "Note: you may need to restart the kernel to use updated packages.\n"
     ]
    },
    {
     "name": "stderr",
     "output_type": "stream",
     "text": [
      "ERROR: Could not install packages due to an OSError: [WinError 5] Access is denied: 'C:\\\\Users\\\\om\\\\AppData\\\\Local\\\\Programs\\\\Python\\\\Python38\\\\Lib\\\\site-packages\\\\~egex\\\\_regex.cp38-win_amd64.pyd'\n",
      "Consider using the `--user` option or check the permissions.\n",
      "\n",
      "WARNING: You are using pip version 21.2.4; however, version 21.3.1 is available.\n",
      "You should consider upgrading via the 'c:\\users\\om\\appdata\\local\\programs\\python\\python38\\python.exe -m pip install --upgrade pip' command.\n"
     ]
    }
   ],
   "source": [
    "pip install -U nltk"
   ]
  },
  {
   "cell_type": "code",
   "execution_count": 8,
   "id": "be744fe1",
   "metadata": {},
   "outputs": [
    {
     "name": "stderr",
     "output_type": "stream",
     "text": [
      "[nltk_data] Downloading package punkt to\n",
      "[nltk_data]     C:\\Users\\om\\AppData\\Roaming\\nltk_data...\n",
      "[nltk_data]   Package punkt is already up-to-date!\n"
     ]
    },
    {
     "data": {
      "text/plain": [
       "True"
      ]
     },
     "execution_count": 8,
     "metadata": {},
     "output_type": "execute_result"
    }
   ],
   "source": [
    " nltk.download('punkt')\n"
   ]
  },
  {
   "cell_type": "code",
   "execution_count": 56,
   "id": "6b502712",
   "metadata": {},
   "outputs": [
    {
     "name": "stdout",
     "output_type": "stream",
     "text": [
      "['This', 'planet', 'belongs', 'to', 'all', 'of', 'us', '.']\n",
      "\n",
      "['Appreciate', 'the', 'work', '.']\n",
      "\n",
      "['Kudos', 'to', 'iamgurgaon', 'citizens', 'group.After', 'paying', 'stamp', 'duties', ',', 'municipal', 'tax', 'and', 'all', 'othere', 'taxs', 'to', 'govt', '.']\n",
      "\n",
      "['the', 'citizens', 'have', 'to', 'do', 'everthing.🤦🤷\\u200d♂️Love', 'from', 'Tamil', 'nadu', '💝', 'take', 'more', 'steps', 'to', 'save', 'our', 'world.Breathtaking', '🥰Wow', '.']\n",
      "\n",
      "['Inspiring', '!', 'Excellent', 'work', 'from', 'the', 'children', 'of', 'kailas', '&', 'agenta', '🤗Appreciable', 'initiative', '.']\n",
      "\n",
      "['when', 'citizens', 'participate', ',', 'govt', \"'s\", 'know', 'not', 'to', 'ignore', 'the', 'citizens', '...', 'Nice', 'to', 'see', 'some', 'concerned', 'citizens', 'and', 'aspirants', '.']\n",
      "\n",
      "['Keep', 'it', 'up', 'fellas.Great', 'work', '🙏Great', 'work', '👏', '👍', '👌Jai', 'Hind', 'to', 'all', 'd', 'volunteersThank', 'god', 'at', 'least', 'somebody', 'is', 'doing', 'something', 'about', 'it', '.']\n",
      "\n",
      "['Best', 'of', 'luck.your', 'organisation', 'deserve', 'Grand', 'saluteFeeling', 'a', 'bit', 'secured', 'nowKudos', 'to', 'citizens', 'of', 'GurgaonEnvironment', 'are', 'mothers', 'to', 'protect', 'human', 'beings', 'we', 'need', 'them', 'so', 'it', 'is', 'now', 'a', 'high', 'time', 'to', 'protect', 'themPatna', '(', 'Bihar', ')', 'really', 'need', 'this.Good', 'initiativeVery', 'good', 'initiativeGurugram', 'is', 'in', 'up', 'new', 'it', 'industry', 'of', 'India', '😎♥️🙌🏻🙌🏻🤘🏻GreatGovt', 'is', 'busy', 'in', 'doing', 'g', '@', '#', '$', '%', 'u', 'things', 'and', 'normal', 'citizens', 'are', 'talking', 'the', 'things', 'in', 'their', 'own', 'hands', ',', 'even', 'after', 'paying', 'so', 'much', 'money', 'to', 'the', 'govt.Interesting', 'to', 'see', 'quint', 'have', 'uploaded', 'only', '2', 'videos', 'the', 'whole', 'day', '...']\n",
      "\n",
      "['It', \"'s\", 'obvious', 'thou', '...', 'Jab', 'khud', 'ki', 'phatt', 'jati', 'hai', '...', 'Toh', 'ache', 'acho', 'ki', 'leti', 'hai', '...', '😂😂😂😂😂😂', '....', 'high', 'respect', 'for', 'people', 'who', 'think', 'like', 'this', '.....', 'This', 'planet', 'belongs', 'to', 'all', 'of', 'us', '.']\n",
      "\n",
      "['Appreciate', 'the', 'work', '.']\n",
      "\n",
      "['Kudos', 'to', 'iamgurgaon', 'citizens', 'group.After', 'paying', 'stamp', 'duties', ',', 'municipal', 'tax', 'and', 'all', 'othere', 'taxs', 'to', 'govt', '.']\n",
      "\n",
      "['the', 'citizens', 'have', 'to', 'do', 'everthing.🤦🤷\\u200d♂️Love', 'from', 'Tamil', 'nadu', '💝', 'take', 'more', 'steps', 'to', 'save', 'our', 'world.Breathtaking', '🥰Wow', '.']\n",
      "\n",
      "['Inspiring', '!', 'Excellent', 'work', 'from', 'the', 'children', 'of', 'kailas', '&', 'agenta', '🤗Appreciable', 'initiative', '.']\n",
      "\n",
      "['when', 'citizens', 'participate', ',', 'govt', \"'s\", 'know', 'not', 'to', 'ignore', 'the', 'citizens', '...', 'Nice', 'to', 'see', 'some', 'concerned', 'citizens', 'and', 'aspirants', '.']\n",
      "\n",
      "['Keep', 'it', 'up', 'fellas.Great', 'work', '🙏Great', 'work', '👏', '👍', '👌Jai', 'Hind', 'to', 'all', 'd', 'volunteersThank', 'god', 'at', 'least', 'somebody', 'is', 'doing', 'something', 'about', 'it', '.']\n",
      "\n",
      "['Best', 'of', 'luck.your', 'organisation', 'deserve', 'Grand', 'saluteFeeling', 'a', 'bit', 'secured', 'nowKudos', 'to', 'citizens', 'of', 'GurgaonEnvironment', 'are', 'mothers', 'to', 'protect', 'human', 'beings', 'we', 'need', 'them', 'so', 'it', 'is', 'now', 'a', 'high', 'time', 'to', 'protect', 'themPatna', '(', 'Bihar', ')', 'really', 'need', 'this.Good', 'initiativeVery', 'good', 'initiativeGurugram', 'is', 'in', 'up', 'new', 'it', 'industry', 'of', 'India', '😎♥️🙌🏻🙌🏻🤘🏻GreatGovt', 'is', 'busy', 'in', 'doing', 'g', '@', '#', '$', '%', 'u', 'things', 'and', 'normal', 'citizens', 'are', 'talking', 'the', 'things', 'in', 'their', 'own', 'hands', ',', 'even', 'after', 'paying', 'so', 'much', 'money', 'to', 'the', 'govt.Interesting', 'to', 'see', 'quint', 'have', 'uploaded', 'only', '2', 'videos', 'the', 'whole', 'day', '...']\n",
      "\n",
      "['It', \"'s\", 'obvious', 'thou', '...', 'Jab', 'khud', 'ki', 'phatt', 'jati', 'hai', '...', 'Toh', 'ache', 'acho', 'ki', 'leti', 'hai', '...', '😂😂😂😂😂😂', '....', 'high', 'respect', 'for', 'people', 'who', 'think', 'like', 'this', '.....', 'Kudos', 'to', 'youHope', 'they', 'are', 'not', 'following', 'miyawaki', 'method', '..']\n",
      "\n",
      "['It', 'would', 'have', 'been', 'better', 'for', 'the', 'planet', ',', 'if', 'someone', 'order', 'lock', 'down', 'once', 'a', 'weeknice.😲😲😲😲😲😲🤩🤩🤩🤩🤩🤩🤩yah', 'sarkari', 'kam', 'tax', 'payers', 'ko', 'karna', 'hoga', '.']\n",
      "\n",
      "['tax', 'bahro', 'oor', 'zhad', 'b', 'tax', 'payers', 'lagao', '.']\n",
      "\n",
      "['inka', 'tax', 'saara', 'kisan', 'subsidy', 'me', 'jata', 'hai', 'orr', 'kisan', 'parel', 'jalaate', 'hai', ',', 'same', 'environment', 'ki', 'watt', 'lagate', 'hiJai', 'hind', 'jai', 'IndiaWe', 'must', 'understand', 'that', 'tall', 'skyscrapers', 'and', 'good', 'roads', 'are', 'not', 'enough', 'to', 'qualify', 'for', 'a', 'smart', 'city', '.']\n",
      "\n",
      "['There', 'must', 'be', 'a', 'significant', 'patch', 'of', 'verdant', 'surroundings', 'to', 'keep', 'the', 'city', 'free', 'of', 'pollution', 'and', 'fresh', 'air', '.']\n",
      "\n",
      "['These', 'buildings', 'and', 'streets', 'are', \"n't\", 'going', 'to', 'give', 'us', 'the', 'oxygen', '.']\n",
      "\n",
      "['Development', 'has', 'been', 'reckless', 'where', 'builders', 'always', 'neglect', 'green', 'cover', '.']\n",
      "\n",
      "['They', 'just', 'want', 'to', 'extract', 'their', 'pound', 'of', 'profits.Waah', 'fir', '1000s', 'cr', '₹', 'kahaan', 'jaata', 'hai', 'Jo', 'ki', 'development', 'ke', 'naam', 'par', 'allot', 'kiya', 'jaata', 'hai', '?', '👿👿Gurgaon', 'contributes', 'the', 'most', 'to', 'Haryana', 'exchequer', '.']\n",
      "\n",
      "['Then', ',', 'the', 'income', 'taxes', 'paid', 'by', 'people', 'living', 'here', 'are', 'a', 'lot', 'too', '.']\n",
      "\n",
      "['Where', 'are', 'our', 'taxes', 'going', '?', '?']\n",
      "\n",
      "['?', 'FirstUrbanisation', 'means', 'jobs', 'but', 'no', 'environment', 'vice', 'versa', '.']\n",
      "\n",
      "['Decide', 'yourself', 'Pls', 'illogical', 'liberals', 'duur', 'rahe', 'logical', 'conversation', 'Karna', 'Bina', 'Gali', 'kaiH']\n",
      "\n"
     ]
    }
   ],
   "source": [
    "for sentence in sentences:\n",
    "    words = nltk.word_tokenize(sentence)\n",
    "    print(words)\n",
    "    print()"
   ]
  },
  {
   "cell_type": "markdown",
   "id": "35173222",
   "metadata": {},
   "source": [
    "Stemming & lemmatizer"
   ]
  },
  {
   "cell_type": "code",
   "execution_count": 12,
   "id": "e7e6c1e6",
   "metadata": {},
   "outputs": [
    {
     "name": "stderr",
     "output_type": "stream",
     "text": [
      "[nltk_data] Downloading package wordnet to\n",
      "[nltk_data]     C:\\Users\\om\\AppData\\Roaming\\nltk_data...\n",
      "[nltk_data]   Unzipping corpora\\wordnet.zip.\n"
     ]
    },
    {
     "data": {
      "text/plain": [
       "True"
      ]
     },
     "execution_count": 12,
     "metadata": {},
     "output_type": "execute_result"
    }
   ],
   "source": [
    "nltk.download('wordnet')\n"
   ]
  },
  {
   "cell_type": "code",
   "execution_count": 57,
   "id": "9e21d890",
   "metadata": {},
   "outputs": [
    {
     "name": "stdout",
     "output_type": "stream",
     "text": [
      "['i', 'me', 'my', 'myself', 'we', 'our', 'ours', 'ourselves', 'you', \"you're\", \"you've\", \"you'll\", \"you'd\", 'your', 'yours', 'yourself', 'yourselves', 'he', 'him', 'his', 'himself', 'she', \"she's\", 'her', 'hers', 'herself', 'it', \"it's\", 'its', 'itself', 'they', 'them', 'their', 'theirs', 'themselves', 'what', 'which', 'who', 'whom', 'this', 'that', \"that'll\", 'these', 'those', 'am', 'is', 'are', 'was', 'were', 'be', 'been', 'being', 'have', 'has', 'had', 'having', 'do', 'does', 'did', 'doing', 'a', 'an', 'the', 'and', 'but', 'if', 'or', 'because', 'as', 'until', 'while', 'of', 'at', 'by', 'for', 'with', 'about', 'against', 'between', 'into', 'through', 'during', 'before', 'after', 'above', 'below', 'to', 'from', 'up', 'down', 'in', 'out', 'on', 'off', 'over', 'under', 'again', 'further', 'then', 'once', 'here', 'there', 'when', 'where', 'why', 'how', 'all', 'any', 'both', 'each', 'few', 'more', 'most', 'other', 'some', 'such', 'no', 'nor', 'not', 'only', 'own', 'same', 'so', 'than', 'too', 'very', 's', 't', 'can', 'will', 'just', 'don', \"don't\", 'should', \"should've\", 'now', 'd', 'll', 'm', 'o', 're', 've', 'y', 'ain', 'aren', \"aren't\", 'couldn', \"couldn't\", 'didn', \"didn't\", 'doesn', \"doesn't\", 'hadn', \"hadn't\", 'hasn', \"hasn't\", 'haven', \"haven't\", 'isn', \"isn't\", 'ma', 'mightn', \"mightn't\", 'mustn', \"mustn't\", 'needn', \"needn't\", 'shan', \"shan't\", 'shouldn', \"shouldn't\", 'wasn', \"wasn't\", 'weren', \"weren't\", 'won', \"won't\", 'wouldn', \"wouldn't\"]\n"
     ]
    }
   ],
   "source": [
    "from nltk.corpus import stopwords\n",
    "print(stopwords.words(\"english\"))"
   ]
  },
  {
   "cell_type": "code",
   "execution_count": 15,
   "id": "18c3737d",
   "metadata": {},
   "outputs": [
    {
     "name": "stderr",
     "output_type": "stream",
     "text": [
      "[nltk_data] Downloading package stopwords to\n",
      "[nltk_data]     C:\\Users\\om\\AppData\\Roaming\\nltk_data...\n",
      "[nltk_data]   Unzipping corpora\\stopwords.zip.\n"
     ]
    },
    {
     "data": {
      "text/plain": [
       "True"
      ]
     },
     "execution_count": 15,
     "metadata": {},
     "output_type": "execute_result"
    }
   ],
   "source": [
    " nltk.download('stopwords')\n",
    "    "
   ]
  },
  {
   "cell_type": "code",
   "execution_count": 59,
   "id": "e1f50689",
   "metadata": {},
   "outputs": [
    {
     "name": "stdout",
     "output_type": "stream",
     "text": [
      "['This', 'planet', 'belongs', 'us', '.']\n",
      "['Appreciate', 'work', '.']\n",
      "['Kudos', 'iamgurgaon', 'citizens', 'group.After', 'paying', 'stamp', 'duties', ',', 'municipal', 'tax', 'othere', 'taxs', 'govt', '.']\n",
      "['citizens', 'everthing.🤦🤷\\u200d♂️Love', 'Tamil', 'nadu', '💝', 'take', 'steps', 'save', 'world.Breathtaking', '🥰Wow', '.']\n",
      "['Inspiring', '!', 'Excellent', 'work', 'children', 'kailas', '&', 'agenta', '🤗Appreciable', 'initiative', '.']\n",
      "['citizens', 'participate', ',', 'govt', \"'s\", 'know', 'ignore', 'citizens', '...', 'Nice', 'see', 'concerned', 'citizens', 'aspirants', '.']\n",
      "['Keep', 'fellas.Great', 'work', '🙏Great', 'work', '👏', '👍', '👌Jai', 'Hind', 'volunteersThank', 'god', 'least', 'somebody', 'something', '.']\n",
      "['Best', 'luck.your', 'organisation', 'deserve', 'Grand', 'saluteFeeling', 'bit', 'secured', 'nowKudos', 'citizens', 'GurgaonEnvironment', 'mothers', 'protect', 'human', 'beings', 'need', 'high', 'time', 'protect', 'themPatna', '(', 'Bihar', ')', 'really', 'need', 'this.Good', 'initiativeVery', 'good', 'initiativeGurugram', 'new', 'industry', 'India', '😎♥️🙌🏻🙌🏻🤘🏻GreatGovt', 'busy', 'g', '@', '#', '$', '%', 'u', 'things', 'normal', 'citizens', 'talking', 'things', 'hands', ',', 'even', 'paying', 'much', 'money', 'govt.Interesting', 'see', 'quint', 'uploaded', '2', 'videos', 'whole', 'day', '...']\n",
      "['It', \"'s\", 'obvious', 'thou', '...', 'Jab', 'khud', 'ki', 'phatt', 'jati', 'hai', '...', 'Toh', 'ache', 'acho', 'ki', 'leti', 'hai', '...', '😂😂😂😂😂😂', '....', 'high', 'respect', 'people', 'think', 'like', '.....', 'This', 'planet', 'belongs', 'us', '.']\n",
      "['Appreciate', 'work', '.']\n",
      "['Kudos', 'iamgurgaon', 'citizens', 'group.After', 'paying', 'stamp', 'duties', ',', 'municipal', 'tax', 'othere', 'taxs', 'govt', '.']\n",
      "['citizens', 'everthing.🤦🤷\\u200d♂️Love', 'Tamil', 'nadu', '💝', 'take', 'steps', 'save', 'world.Breathtaking', '🥰Wow', '.']\n",
      "['Inspiring', '!', 'Excellent', 'work', 'children', 'kailas', '&', 'agenta', '🤗Appreciable', 'initiative', '.']\n",
      "['citizens', 'participate', ',', 'govt', \"'s\", 'know', 'ignore', 'citizens', '...', 'Nice', 'see', 'concerned', 'citizens', 'aspirants', '.']\n",
      "['Keep', 'fellas.Great', 'work', '🙏Great', 'work', '👏', '👍', '👌Jai', 'Hind', 'volunteersThank', 'god', 'least', 'somebody', 'something', '.']\n",
      "['Best', 'luck.your', 'organisation', 'deserve', 'Grand', 'saluteFeeling', 'bit', 'secured', 'nowKudos', 'citizens', 'GurgaonEnvironment', 'mothers', 'protect', 'human', 'beings', 'need', 'high', 'time', 'protect', 'themPatna', '(', 'Bihar', ')', 'really', 'need', 'this.Good', 'initiativeVery', 'good', 'initiativeGurugram', 'new', 'industry', 'India', '😎♥️🙌🏻🙌🏻🤘🏻GreatGovt', 'busy', 'g', '@', '#', '$', '%', 'u', 'things', 'normal', 'citizens', 'talking', 'things', 'hands', ',', 'even', 'paying', 'much', 'money', 'govt.Interesting', 'see', 'quint', 'uploaded', '2', 'videos', 'whole', 'day', '...']\n",
      "['It', \"'s\", 'obvious', 'thou', '...', 'Jab', 'khud', 'ki', 'phatt', 'jati', 'hai', '...', 'Toh', 'ache', 'acho', 'ki', 'leti', 'hai', '...', '😂😂😂😂😂😂', '....', 'high', 'respect', 'people', 'think', 'like', '.....', 'Kudos', 'youHope', 'following', 'miyawaki', 'method', '..']\n",
      "['It', 'would', 'better', 'planet', ',', 'someone', 'order', 'lock', 'weeknice.😲😲😲😲😲😲🤩🤩🤩🤩🤩🤩🤩yah', 'sarkari', 'kam', 'tax', 'payers', 'ko', 'karna', 'hoga', '.']\n",
      "['tax', 'bahro', 'oor', 'zhad', 'b', 'tax', 'payers', 'lagao', '.']\n",
      "['inka', 'tax', 'saara', 'kisan', 'subsidy', 'jata', 'hai', 'orr', 'kisan', 'parel', 'jalaate', 'hai', ',', 'environment', 'ki', 'watt', 'lagate', 'hiJai', 'hind', 'jai', 'IndiaWe', 'must', 'understand', 'tall', 'skyscrapers', 'good', 'roads', 'enough', 'qualify', 'smart', 'city', '.']\n",
      "['There', 'must', 'significant', 'patch', 'verdant', 'surroundings', 'keep', 'city', 'free', 'pollution', 'fresh', 'air', '.']\n",
      "['These', 'buildings', 'streets', \"n't\", 'going', 'give', 'us', 'oxygen', '.']\n",
      "['Development', 'reckless', 'builders', 'always', 'neglect', 'green', 'cover', '.']\n",
      "['They', 'want', 'extract', 'pound', 'profits.Waah', 'fir', '1000s', 'cr', '₹', 'kahaan', 'jaata', 'hai', 'Jo', 'ki', 'development', 'ke', 'naam', 'par', 'allot', 'kiya', 'jaata', 'hai', '?', '👿👿Gurgaon', 'contributes', 'Haryana', 'exchequer', '.']\n",
      "['Then', ',', 'income', 'taxes', 'paid', 'people', 'living', 'lot', '.']\n",
      "['Where', 'taxes', 'going', '?', '?']\n",
      "['?', 'FirstUrbanisation', 'means', 'jobs', 'environment', 'vice', 'versa', '.']\n",
      "['Decide', 'Pls', 'illogical', 'liberals', 'duur', 'rahe', 'logical', 'conversation', 'Karna', 'Bina', 'Gali', 'kaiH']\n"
     ]
    }
   ],
   "source": [
    "stop_words = set(stopwords.words(\"english\"))\n",
    "#sentence = \"Backgammon is one of the oldest known board games.\"\n",
    "for sentence in sentences:\n",
    "    words = nltk.word_tokenize(sentence)\n",
    "    without_stop_words = [word for word in words if not word in stop_words]\n",
    "    print(without_stop_words)"
   ]
  },
  {
   "cell_type": "code",
   "execution_count": 62,
   "id": "1c91ce01",
   "metadata": {},
   "outputs": [
    {
     "name": "stdout",
     "output_type": "stream",
     "text": [
      "The development of snowboarding was inspired by skateboarding  sledding  surfing and skiing \n"
     ]
    }
   ],
   "source": [
    "import re\n",
    "sentence = \"The development of snowboarding was inspired by skateboarding, sledding, surfing and skiing.\"\n",
    "pattern = r\"[^\\w]\"\n",
    "print(re.sub(pattern, \" \", sentence))"
   ]
  },
  {
   "cell_type": "code",
   "execution_count": 61,
   "id": "4ceaa48d",
   "metadata": {},
   "outputs": [
    {
     "name": "stdout",
     "output_type": "stream",
     "text": [
      "Stemmer: seen\n",
      "Lemmatizer: see\n",
      "\n",
      "Stemmer: drove\n",
      "Lemmatizer: drive\n",
      "\n"
     ]
    }
   ],
   "source": [
    "from nltk.stem import PorterStemmer, WordNetLemmatizer\n",
    "from nltk.corpus import wordnet\n",
    "\n",
    "def compare_stemmer_and_lemmatizer(stemmer, lemmatizer, word, pos):\n",
    "    \"\"\"\n",
    "    Print the results of stemmind and lemmitization using the passed stemmer, lemmatizer, word and pos (part of speech)\n",
    "    \"\"\"\n",
    "    print(\"Stemmer:\", stemmer.stem(word))\n",
    "    print(\"Lemmatizer:\", lemmatizer.lemmatize(word, pos))\n",
    "    print()\n",
    "\n",
    "lemmatizer = WordNetLemmatizer()\n",
    "stemmer = PorterStemmer()\n",
    "compare_stemmer_and_lemmatizer(stemmer, lemmatizer, word = \"seen\", pos = wordnet.VERB)\n",
    "compare_stemmer_and_lemmatizer(stemmer, lemmatizer, word = \"drove\", pos = wordnet.VERB)"
   ]
  },
  {
   "cell_type": "code",
   "execution_count": null,
   "id": "b4af7b49",
   "metadata": {},
   "outputs": [],
   "source": []
  }
 ],
 "metadata": {
  "kernelspec": {
   "display_name": "Python 3",
   "language": "python",
   "name": "python3"
  },
  "language_info": {
   "codemirror_mode": {
    "name": "ipython",
    "version": 3
   },
   "file_extension": ".py",
   "mimetype": "text/x-python",
   "name": "python",
   "nbconvert_exporter": "python",
   "pygments_lexer": "ipython3",
   "version": "3.7.4"
  }
 },
 "nbformat": 4,
 "nbformat_minor": 5
}
